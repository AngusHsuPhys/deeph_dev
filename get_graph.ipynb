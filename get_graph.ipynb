{
 "cells": [
  {
   "cell_type": "code",
   "execution_count": 56,
   "metadata": {},
   "outputs": [],
   "source": [
    "import collections\n",
    "import itertools\n",
    "import os\n",
    "import json\n",
    "import warnings\n",
    "import math\n",
    "\n",
    "import torch\n",
    "import torch_geometric\n",
    "from torch_geometric.data import Data, Batch\n",
    "import numpy as np\n",
    "import h5py\n",
    "\n",
    "from deeph.model import get_spherical_from_cartesian, SphericalHarmonics\n",
    "from deeph.from_pymatgen import find_neighbors, _one_to_three, _compute_cube_index, _three_to_one\n",
    "from pymatgen.core.structure import Structure\n"
   ]
  },
  {
   "cell_type": "code",
   "execution_count": 57,
   "metadata": {},
   "outputs": [],
   "source": [
    "folder = '/home/t.hsu/example2/work_dir/dataset/processed/0'\n",
    "structure = Structure(np.loadtxt(os.path.join(folder, 'lat.dat')).T,\n",
    "                        np.loadtxt(os.path.join(folder, 'element.dat')),\n",
    "                        np.loadtxt(os.path.join(folder, 'site_positions.dat')).T,\n",
    "                        coords_are_cartesian=True,\n",
    "                        to_unit_cell=False)"
   ]
  },
  {
   "cell_type": "code",
   "execution_count": 58,
   "metadata": {},
   "outputs": [
    {
     "name": "stdout",
     "output_type": "stream",
     "text": [
      "length of frac_coord 36\n",
      "length of cart_coord 36\n"
     ]
    }
   ],
   "source": [
    "print('length of frac_coord', len(structure.frac_coords))\n",
    "print('length of cart_coord', len(structure.cart_coords))"
   ]
  },
  {
   "cell_type": "code",
   "execution_count": 59,
   "metadata": {},
   "outputs": [],
   "source": [
    "# Define variable to get graph: \n",
    "default_dtype_torch = torch.get_default_dtype()\n",
    "cart_coords = torch.tensor(structure.cart_coords, dtype=default_dtype_torch)\n",
    "frac_coords = torch.tensor(structure.frac_coords, dtype=default_dtype_torch)\n",
    "numbers = torch.tensor(structure.atomic_numbers)\n",
    "structure.lattice.matrix.setflags(write=True)\n",
    "lattice = torch.tensor(structure.lattice.matrix, dtype=default_dtype_torch)\n",
    "stru_id = os.path.split(folder)[-1]\n",
    "radius = 9\n",
    "numerical_tol=1e-8\n",
    "tb_folder=folder\n",
    "interface = 'openmx'\n",
    "num_l = 5\n",
    "create_from_DFT = 'True'\n",
    "huge_structure = 'True'\n",
    "separate_onsite = 'False'\n",
    "if_lcmp_graph = 'True'\n",
    "max_num_nbr = 0"
   ]
  },
  {
   "cell_type": "code",
   "execution_count": 60,
   "metadata": {},
   "outputs": [],
   "source": [
    "def get_graph(cart_coords, frac_coords, numbers, stru_id, r, max_num_nbr, numerical_tol, lattice,\n",
    "              default_dtype_torch, tb_folder, interface, num_l, create_from_DFT, if_lcmp_graph,\n",
    "              separate_onsite, target='hamiltonian', huge_structure=False, only_get_R_list=False, if_new_sp=False,\n",
    "              if_require_grad=False, fid_rc=None, **kwargs):\n",
    "    if create_from_DFT:\n",
    "        key_atom_list = [[] for _ in range(len(numbers))]\n",
    "        edge_idx, edge_fea, edge_idx_first = [], [], []\n",
    "        if if_lcmp_graph:\n",
    "            atom_idx_connect, edge_idx_connect = [], []\n",
    "            edge_idx_connect_cursor = 0\n",
    "        if if_require_grad:\n",
    "            fid = fid_rc\n",
    "        else:\n",
    "            fid = h5py.File(os.path.join(tb_folder, 'rc.h5'), 'r')    \n",
    "        for k in fid.keys():\n",
    "            key = json.loads(k)\n",
    "            key_tensor = torch.tensor([key[0], key[1], key[2], key[3] - 1, key[4] - 1]) # (R, i, j) i and j is 0-based index\n",
    "            if separate_onsite:\n",
    "                if key[0] == 0 and key[1] == 0 and key[2] == 0 and key[3] == key[4]:\n",
    "                    continue\n",
    "            key_atom_list[key[3] - 1].append(key_tensor) # Reorder the storage: start with all the configs from atom i = 0, atom i=1, ...\n",
    "        for index_first, (cart_coord, keys_tensor) in enumerate(zip(cart_coords, key_atom_list)):\n",
    "            keys_tensor = torch.stack(keys_tensor)\n",
    "            cart_coords_j = cart_coords[keys_tensor[:, 4]] + keys_tensor[:, :3].type(default_dtype_torch).to(cart_coords.device) @ lattice.to(cart_coords.device)\n",
    "            dist = torch.norm(cart_coords_j - cart_coord[None, :], dim=1)\n",
    "            len_nn = keys_tensor.shape[0]\n",
    "            edge_idx_first.extend([index_first] * len_nn)\n",
    "            edge_idx.extend(keys_tensor[:, 4].tolist())\n",
    "            edge_fea_single = torch.cat([dist.view(-1, 1), cart_coord.view(1, 3).expand(len_nn, 3)], dim=-1)\n",
    "            edge_fea_single = torch.cat([edge_fea_single, cart_coords_j, cart_coords[keys_tensor[:, 4]]], dim=-1)\n",
    "            edge_fea.append(edge_fea_single)\n",
    "\n",
    "            if if_lcmp_graph:\n",
    "                atom_idx_connect.append(keys_tensor[:, 4])\n",
    "                edge_idx_connect.append(range(edge_idx_connect_cursor, edge_idx_connect_cursor + len_nn))\n",
    "                edge_idx_connect_cursor += len_nn\n",
    "\n",
    "        edge_fea = torch.cat(edge_fea).type(default_dtype_torch)\n",
    "        edge_idx = torch.stack([torch.LongTensor(edge_idx_first), torch.LongTensor(edge_idx)])\n",
    "    data = Data(x=numbers, edge_index=edge_idx, edge_attr=edge_fea, stru_id=stru_id, **kwargs)\n",
    "    return data"
   ]
  },
  {
   "cell_type": "code",
   "execution_count": 61,
   "metadata": {},
   "outputs": [],
   "source": [
    "y = get_graph(cart_coords, frac_coords, numbers, stru_id, radius, max_num_nbr, numerical_tol, lattice,\n",
    "              default_dtype_torch, tb_folder, interface, num_l, create_from_DFT, if_lcmp_graph,\n",
    "              separate_onsite, target='hamiltonian', huge_structure=False, only_get_R_list=False, if_new_sp=False,\n",
    "              if_require_grad=False, fid_rc=None)"
   ]
  },
  {
   "cell_type": "code",
   "execution_count": 62,
   "metadata": {},
   "outputs": [
    {
     "data": {
      "text/plain": [
       "Data(edge_attr=[1436, 10], edge_index=[2, 1436], stru_id=\"0\", x=[36])"
      ]
     },
     "execution_count": 62,
     "metadata": {},
     "output_type": "execute_result"
    }
   ],
   "source": [
    "y"
   ]
  },
  {
   "cell_type": "markdown",
   "metadata": {},
   "source": [
    "### This is the case for stru_id = 0, which is the first configuration. Imagine we have 81 different configurations, we just loop over and keep concatenating "
   ]
  },
  {
   "cell_type": "code",
   "execution_count": 63,
   "metadata": {},
   "outputs": [],
   "source": [
    "fid = h5py.File(os.path.join(tb_folder, 'rc.h5'), 'r')\n",
    "key_atom_list = [[] for _ in range(len(numbers))]\n",
    "\n",
    "for k in fid.keys():\n",
    "    key = json.loads(k)\n",
    "    key_tensor = torch.tensor([key[0], key[1], key[2], key[3] - 1, key[4] - 1]) # (R, i, j) i and j is 0-based index\n",
    "    if separate_onsite:\n",
    "        if key[0] == 0 and key[1] == 0 and key[2] == 0 and key[3] == key[4]:\n",
    "            continue\n",
    "    key_atom_list[key[3] - 1].append(key_tensor) # Reorder the storage: start with all the configs from atom i = 0, atom i=1, ..."
   ]
  },
  {
   "cell_type": "code",
   "execution_count": 64,
   "metadata": {},
   "outputs": [
    {
     "data": {
      "text/plain": [
       "[tensor([-1, -1,  0,  0, 17]),\n",
       " tensor([-1, -1,  0,  0, 26]),\n",
       " tensor([-1, -1,  0,  0, 27]),\n",
       " tensor([-1, -1,  0,  0,  5]),\n",
       " tensor([-1, -1,  0,  0,  7]),\n",
       " tensor([-1, -1,  0,  0,  8]),\n",
       " tensor([-1,  0,  0,  0, 10]),\n",
       " tensor([-1,  0,  0,  0, 15]),\n",
       " tensor([-1,  0,  0,  0, 16]),\n",
       " tensor([-1,  0,  0,  0, 24]),\n",
       " tensor([-1,  0,  0,  0, 28]),\n",
       " tensor([-1,  0,  0,  0, 33]),\n",
       " tensor([-1,  0,  0,  0,  6]),\n",
       " tensor([-1,  0,  0,  0,  7]),\n",
       " tensor([ 0, -1,  0,  0, 11]),\n",
       " tensor([ 0, -1,  0,  0, 20]),\n",
       " tensor([ 0, -1,  0,  0, 30]),\n",
       " tensor([ 0, -1,  0,  0,  2]),\n",
       " tensor([ 0, -1,  0,  0,  5]),\n",
       " tensor([0, 0, 0, 0, 9]),\n",
       " tensor([ 0,  0,  0,  0, 11]),\n",
       " tensor([ 0,  0,  0,  0, 12]),\n",
       " tensor([ 0,  0,  0,  0, 13]),\n",
       " tensor([ 0,  0,  0,  0, 14]),\n",
       " tensor([ 0,  0,  0,  0, 16]),\n",
       " tensor([ 0,  0,  0,  0, 17]),\n",
       " tensor([ 0,  0,  0,  0, 18]),\n",
       " tensor([ 0,  0,  0,  0, 19]),\n",
       " tensor([ 0,  0,  0,  0, 21]),\n",
       " tensor([ 0,  0,  0,  0, 22]),\n",
       " tensor([0, 0, 0, 0, 1]),\n",
       " tensor([ 0,  0,  0,  0, 31]),\n",
       " tensor([ 0,  0,  0,  0, 32]),\n",
       " tensor([0, 0, 0, 0, 3]),\n",
       " tensor([0, 0, 0, 0, 4]),\n",
       " tensor([0, 0, 0, 0, 5]),\n",
       " tensor([0, 0, 0, 0, 7])]"
      ]
     },
     "execution_count": 64,
     "metadata": {},
     "output_type": "execute_result"
    }
   ],
   "source": [
    "key_atom_list[0]"
   ]
  },
  {
   "cell_type": "code",
   "execution_count": null,
   "metadata": {},
   "outputs": [],
   "source": []
  }
 ],
 "metadata": {
  "kernelspec": {
   "display_name": "minideeph",
   "language": "python",
   "name": "python3"
  },
  "language_info": {
   "codemirror_mode": {
    "name": "ipython",
    "version": 3
   },
   "file_extension": ".py",
   "mimetype": "text/x-python",
   "name": "python",
   "nbconvert_exporter": "python",
   "pygments_lexer": "ipython3",
   "version": "3.9.19"
  }
 },
 "nbformat": 4,
 "nbformat_minor": 2
}
