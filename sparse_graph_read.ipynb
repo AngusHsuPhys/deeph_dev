{
 "cells": [
  {
   "cell_type": "code",
   "execution_count": 1,
   "id": "ffad923f",
   "metadata": {},
   "outputs": [
    {
     "name": "stderr",
     "output_type": "stream",
     "text": [
      "/home/t.hsu/miniconda3/envs/minideeph/lib/python3.9/site-packages/tqdm/auto.py:21: TqdmWarning: IProgress not found. Please update jupyter and ipywidgets. See https://ipywidgets.readthedocs.io/en/stable/user_install.html\n",
      "  from .autonotebook import tqdm as notebook_tqdm\n"
     ]
    },
    {
     "name": "stdout",
     "output_type": "stream",
     "text": [
      "Data(atom_num_orbital=[2916], edge_attr=[123924, 10], edge_index=[2, 123924], spinful=[81], stru_id=[81], subgraph_dict=[81], term_mask=[123924], term_real=[123924, 19, 19, 8], x=[2916])\n"
     ]
    }
   ],
   "source": [
    "import pickle\n",
    "import torch \n",
    "from torch_geometric.data import Data\n",
    "from torch.utils.data import SubsetRandomSampler, DataLoader\n",
    "import networkx as nx\n",
    "import matplotlib.pyplot as plt\n",
    "\n",
    "# Path to your .pkl file\n",
    "file_path = '/home/t.hsu/example2/work_dir/dataset/graph/HGraph-h5-Bi_soc-5l-FromDFT.pkl'\n",
    "\n",
    "data = torch.load(file_path)\n",
    "dataset = data[0]\n",
    "print(dataset)"
   ]
  },
  {
   "cell_type": "code",
   "execution_count": 2,
   "id": "bb7a6ff3",
   "metadata": {},
   "outputs": [
    {
     "name": "stdout",
     "output_type": "stream",
     "text": [
      "num_nodes:\n",
      " 2916\n",
      "num_edges:\n",
      " 123924\n",
      "edge_attr: \n",
      " tensor([[ 6.7959, -0.0251,  2.4819,  ...,  4.3714,  7.6419,  6.9063],\n",
      "        [ 6.5393, -0.0251,  2.4819,  ...,  4.3064, 10.1497, 10.0216],\n",
      "        [ 7.1287, -0.0251,  2.4819,  ...,  6.5526, 11.3158, 11.7615],\n",
      "        ...,\n",
      "        [ 6.9382,  4.9215,  7.5881,  ...,  0.5450,  2.5934, 10.1702],\n",
      "        [ 4.3414,  4.9215,  7.5881,  ...,  0.4744,  0.0393, 11.7866],\n",
      "        [ 7.5091,  4.9215,  7.5881,  ..., -1.7610,  3.7495, 11.7483]])\n",
      "tensor([[ 0,  0,  0,  ..., 35, 35, 35],\n",
      "        [17, 26, 27,  ..., 18, 27, 28]])\n",
      "tensor([19, 19, 19,  ..., 19, 19, 19])\n"
     ]
    }
   ],
   "source": [
    "print('num_nodes:\\n', dataset.num_nodes)\n",
    "print('num_edges:\\n', dataset.num_edges)\n",
    "print('edge_attr: \\n', dataset.edge_attr)\n",
    "print(dataset.edge_index)\n",
    "print(dataset.atom_num_orbital)"
   ]
  },
  {
   "cell_type": "code",
   "execution_count": 3,
   "id": "9f7cccfd",
   "metadata": {},
   "outputs": [
    {
     "name": "stdout",
     "output_type": "stream",
     "text": [
      "A = (36, 36)\n",
      "[[81 81 81 ... 72 21 45]\n",
      " [81 81 81 ... 45 73 21]\n",
      " [81 81 81 ... 21 45 73]\n",
      " ...\n",
      " [72 45 21 ... 81 81 81]\n",
      " [21 73 45 ... 81 81 81]\n",
      " [45 21 73 ... 81 81 81]]\n"
     ]
    },
    {
     "data": {
      "image/png": "[encoded data removed]",
      "text/plain": [
       "<Figure size 640x480 with 2 Axes>"
      ]
     },
     "metadata": {},
     "output_type": "display_data"
    }
   ],
   "source": [
    "from torch_geometric.utils import to_dense_adj\n",
    "A = to_dense_adj(dataset.edge_index)[0].numpy().astype(int)\n",
    "print(f'A = {A.shape}')\n",
    "print(A)\n",
    "\n",
    "plt.imshow(A)\n",
    "plt.colorbar()\n",
    "plt.show()"
   ]
  },
  {
   "cell_type": "code",
   "execution_count": 4,
   "id": "0be2f34e",
   "metadata": {},
   "outputs": [],
   "source": [
    "# from torch_geometric.utils import to_networkx\n",
    "\n",
    "# G = to_networkx(dataset, to_undirected=False)\n",
    "# plt.figure(figsize=(12,12))\n",
    "# plt.axis('off')\n",
    "# nx.draw_networkx(G,\n",
    "#                 pos=nx.spring_layout(G, seed=0),\n",
    "#                 with_labels=True,\n",
    "#                 node_size=800,\n",
    "#                 cmap=\"hsv\",\n",
    "#                 vmin=-2,\n",
    "#                 vmax=3,\n",
    "#                 width=0.8,\n",
    "#                 edge_color=\"grey\",\n",
    "#                 font_size=14\n",
    "#                 )\n",
    "# plt.show()"
   ]
  },
  {
   "cell_type": "code",
   "execution_count": 5,
   "id": "2ae4d448",
   "metadata": {},
   "outputs": [
    {
     "data": {
      "text/plain": [
       "{'x': tensor([   0,   36,   72,  108,  144,  180,  216,  252,  288,  324,  360,  396,\n",
       "          432,  468,  504,  540,  576,  612,  648,  684,  720,  756,  792,  828,\n",
       "          864,  900,  936,  972, 1008, 1044, 1080, 1116, 1152, 1188, 1224, 1260,\n",
       "         1296, 1332, 1368, 1404, 1440, 1476, 1512, 1548, 1584, 1620, 1656, 1692,\n",
       "         1728, 1764, 1800, 1836, 1872, 1908, 1944, 1980, 2016, 2052, 2088, 2124,\n",
       "         2160, 2196, 2232, 2268, 2304, 2340, 2376, 2412, 2448, 2484, 2520, 2556,\n",
       "         2592, 2628, 2664, 2700, 2736, 2772, 2808, 2844, 2880, 2916]),\n",
       " 'edge_index': tensor([     0,   1472,   2934,   4390,   5880,   7398,   8944,  10542,  12096,\n",
       "          13614,  15106,  16630,  18106,  19624,  21144,  22674,  24238,  25824,\n",
       "          27428,  28986,  30512,  32050,  33544,  35042,  36570,  38090,  39644,\n",
       "          41230,  42904,  44498,  46054,  47606,  49130,  50624,  52150,  53700,\n",
       "          55254,  56850,  58444,  60034,  61628,  63188,  64720,  66256,  67794,\n",
       "          69326,  70878,  72434,  73990,  75550,  77104,  78626,  80146,  81688,\n",
       "          83358,  84900,  86424,  87946,  89468,  90982,  92502,  94016,  95518,\n",
       "          96996,  98532, 100080, 101550, 103046, 104568, 106086, 107576, 109030,\n",
       "         110504, 111998, 113512, 115042, 116572, 118078, 119552, 121008, 122466,\n",
       "         123924]),\n",
       " 'edge_attr': tensor([     0,   1472,   2934,   4390,   5880,   7398,   8944,  10542,  12096,\n",
       "          13614,  15106,  16630,  18106,  19624,  21144,  22674,  24238,  25824,\n",
       "          27428,  28986,  30512,  32050,  33544,  35042,  36570,  38090,  39644,\n",
       "          41230,  42904,  44498,  46054,  47606,  49130,  50624,  52150,  53700,\n",
       "          55254,  56850,  58444,  60034,  61628,  63188,  64720,  66256,  67794,\n",
       "          69326,  70878,  72434,  73990,  75550,  77104,  78626,  80146,  81688,\n",
       "          83358,  84900,  86424,  87946,  89468,  90982,  92502,  94016,  95518,\n",
       "          96996,  98532, 100080, 101550, 103046, 104568, 106086, 107576, 109030,\n",
       "         110504, 111998, 113512, 115042, 116572, 118078, 119552, 121008, 122466,\n",
       "         123924]),\n",
       " 'stru_id': tensor([ 0,  1,  2,  3,  4,  5,  6,  7,  8,  9, 10, 11, 12, 13, 14, 15, 16, 17,\n",
       "         18, 19, 20, 21, 22, 23, 24, 25, 26, 27, 28, 29, 30, 31, 32, 33, 34, 35,\n",
       "         36, 37, 38, 39, 40, 41, 42, 43, 44, 45, 46, 47, 48, 49, 50, 51, 52, 53,\n",
       "         54, 55, 56, 57, 58, 59, 60, 61, 62, 63, 64, 65, 66, 67, 68, 69, 70, 71,\n",
       "         72, 73, 74, 75, 76, 77, 78, 79, 80, 81]),\n",
       " 'term_mask': tensor([     0,   1472,   2934,   4390,   5880,   7398,   8944,  10542,  12096,\n",
       "          13614,  15106,  16630,  18106,  19624,  21144,  22674,  24238,  25824,\n",
       "          27428,  28986,  30512,  32050,  33544,  35042,  36570,  38090,  39644,\n",
       "          41230,  42904,  44498,  46054,  47606,  49130,  50624,  52150,  53700,\n",
       "          55254,  56850,  58444,  60034,  61628,  63188,  64720,  66256,  67794,\n",
       "          69326,  70878,  72434,  73990,  75550,  77104,  78626,  80146,  81688,\n",
       "          83358,  84900,  86424,  87946,  89468,  90982,  92502,  94016,  95518,\n",
       "          96996,  98532, 100080, 101550, 103046, 104568, 106086, 107576, 109030,\n",
       "         110504, 111998, 113512, 115042, 116572, 118078, 119552, 121008, 122466,\n",
       "         123924]),\n",
       " 'term_real': tensor([     0,   1472,   2934,   4390,   5880,   7398,   8944,  10542,  12096,\n",
       "          13614,  15106,  16630,  18106,  19624,  21144,  22674,  24238,  25824,\n",
       "          27428,  28986,  30512,  32050,  33544,  35042,  36570,  38090,  39644,\n",
       "          41230,  42904,  44498,  46054,  47606,  49130,  50624,  52150,  53700,\n",
       "          55254,  56850,  58444,  60034,  61628,  63188,  64720,  66256,  67794,\n",
       "          69326,  70878,  72434,  73990,  75550,  77104,  78626,  80146,  81688,\n",
       "          83358,  84900,  86424,  87946,  89468,  90982,  92502,  94016,  95518,\n",
       "          96996,  98532, 100080, 101550, 103046, 104568, 106086, 107576, 109030,\n",
       "         110504, 111998, 113512, 115042, 116572, 118078, 119552, 121008, 122466,\n",
       "         123924]),\n",
       " 'atom_num_orbital': tensor([   0,   36,   72,  108,  144,  180,  216,  252,  288,  324,  360,  396,\n",
       "          432,  468,  504,  540,  576,  612,  648,  684,  720,  756,  792,  828,\n",
       "          864,  900,  936,  972, 1008, 1044, 1080, 1116, 1152, 1188, 1224, 1260,\n",
       "         1296, 1332, 1368, 1404, 1440, 1476, 1512, 1548, 1584, 1620, 1656, 1692,\n",
       "         1728, 1764, 1800, 1836, 1872, 1908, 1944, 1980, 2016, 2052, 2088, 2124,\n",
       "         2160, 2196, 2232, 2268, 2304, 2340, 2376, 2412, 2448, 2484, 2520, 2556,\n",
       "         2592, 2628, 2664, 2700, 2736, 2772, 2808, 2844, 2880, 2916]),\n",
       " 'subgraph_dict': tensor([ 0,  1,  2,  3,  4,  5,  6,  7,  8,  9, 10, 11, 12, 13, 14, 15, 16, 17,\n",
       "         18, 19, 20, 21, 22, 23, 24, 25, 26, 27, 28, 29, 30, 31, 32, 33, 34, 35,\n",
       "         36, 37, 38, 39, 40, 41, 42, 43, 44, 45, 46, 47, 48, 49, 50, 51, 52, 53,\n",
       "         54, 55, 56, 57, 58, 59, 60, 61, 62, 63, 64, 65, 66, 67, 68, 69, 70, 71,\n",
       "         72, 73, 74, 75, 76, 77, 78, 79, 80, 81]),\n",
       " 'spinful': tensor([ 0,  1,  2,  3,  4,  5,  6,  7,  8,  9, 10, 11, 12, 13, 14, 15, 16, 17,\n",
       "         18, 19, 20, 21, 22, 23, 24, 25, 26, 27, 28, 29, 30, 31, 32, 33, 34, 35,\n",
       "         36, 37, 38, 39, 40, 41, 42, 43, 44, 45, 46, 47, 48, 49, 50, 51, 52, 53,\n",
       "         54, 55, 56, 57, 58, 59, 60, 61, 62, 63, 64, 65, 66, 67, 68, 69, 70, 71,\n",
       "         72, 73, 74, 75, 76, 77, 78, 79, 80, 81])}"
      ]
     },
     "execution_count": 5,
     "metadata": {},
     "output_type": "execute_result"
    }
   ],
   "source": [
    "dataset2 = data[1]\n",
    "dataset2"
   ]
  },
  {
   "cell_type": "code",
   "execution_count": 6,
   "id": "6a9ac4fc",
   "metadata": {},
   "outputs": [],
   "source": [
    "dataset_size = len(data[1])\n",
    "train_ratio = 0.6\n",
    "val_ratio = 0.2\n",
    "test_ratio = 0.2\n",
    "train_size = int(train_ratio * dataset_size)\n",
    "val_size = int(val_ratio * dataset_size)\n",
    "test_size = int(test_ratio * dataset_size)"
   ]
  },
  {
   "cell_type": "code",
   "execution_count": 7,
   "id": "c32ad83d",
   "metadata": {},
   "outputs": [],
   "source": [
    "from deeph.data import HData\n",
    "file_path = '/home/t.hsu/example2/work_dir/dataset/graph/HGraph-h5-Bi_soc-5l-FromDFT.pkl'\n",
    "\n",
    "data, slices, tmp = torch.load(file_path)"
   ]
  },
  {
   "cell_type": "code",
   "execution_count": 8,
   "id": "d7a6a3a1",
   "metadata": {},
   "outputs": [
    {
     "name": "stdout",
     "output_type": "stream",
     "text": [
      "Graph data file: HGraph-h5-Bi_soc-5l-FromDFT.pkl\n",
      "Use existing graph data file\n",
      "Atomic types: [83]\n",
      "Finish loading the processed 81 structures (spinful: True, the number of atomic types: 1), cost 1 seconds\n"
     ]
    }
   ],
   "source": [
    "dataset = HData(\n",
    "    raw_data_dir='/home/t.hsu/example2/work_dir/dataset/processed',\n",
    "    graph_dir='/home/t.hsu/example2/work_dir/dataset/graph',\n",
    "    interface='h5',\n",
    "    target='hamiltonian',\n",
    "    dataset_name='Bi_soc',\n",
    "    multiprocessing=0,\n",
    "    radius='-1.0',\n",
    "    max_num_nbr=0,\n",
    "    num_l='5',\n",
    "    max_element='-1',\n",
    "    create_from_DFT='True',\n",
    "    if_lcmp_graph='True',\n",
    "    separate_onsite='False',\n",
    "    new_sp=False,\n",
    "    default_dtype_torch=torch.get_default_dtype(),\n",
    ")"
   ]
  },
  {
   "cell_type": "code",
   "execution_count": 9,
   "id": "b06f463d",
   "metadata": {},
   "outputs": [
    {
     "name": "stdout",
     "output_type": "stream",
     "text": [
      "[{'83 83': [0, 0]}, {'83 83': [0, 1]}, {'83 83': [0, 2]}, {'83 83': [0, 3]}, {'83 83': [0, 4]}, {'83 83': [0, 5]}, {'83 83': [0, 6]}, {'83 83': [0, 7]}, {'83 83': [0, 8]}, {'83 83': [0, 9]}, {'83 83': [0, 10]}, {'83 83': [0, 11]}, {'83 83': [0, 12]}, {'83 83': [0, 13]}, {'83 83': [0, 14]}, {'83 83': [0, 15]}, {'83 83': [0, 16]}, {'83 83': [0, 17]}, {'83 83': [0, 18]}, {'83 83': [1, 0]}, {'83 83': [1, 1]}, {'83 83': [1, 2]}, {'83 83': [1, 3]}, {'83 83': [1, 4]}, {'83 83': [1, 5]}, {'83 83': [1, 6]}, {'83 83': [1, 7]}, {'83 83': [1, 8]}, {'83 83': [1, 9]}, {'83 83': [1, 10]}, {'83 83': [1, 11]}, {'83 83': [1, 12]}, {'83 83': [1, 13]}, {'83 83': [1, 14]}, {'83 83': [1, 15]}, {'83 83': [1, 16]}, {'83 83': [1, 17]}, {'83 83': [1, 18]}, {'83 83': [2, 0]}, {'83 83': [2, 1]}, {'83 83': [2, 2]}, {'83 83': [2, 3]}, {'83 83': [2, 4]}, {'83 83': [2, 5]}, {'83 83': [2, 6]}, {'83 83': [2, 7]}, {'83 83': [2, 8]}, {'83 83': [2, 9]}, {'83 83': [2, 10]}, {'83 83': [2, 11]}, {'83 83': [2, 12]}, {'83 83': [2, 13]}, {'83 83': [2, 14]}, {'83 83': [2, 15]}, {'83 83': [2, 16]}, {'83 83': [2, 17]}, {'83 83': [2, 18]}, {'83 83': [3, 0]}, {'83 83': [3, 1]}, {'83 83': [3, 2]}, {'83 83': [3, 3]}, {'83 83': [3, 4]}, {'83 83': [3, 5]}, {'83 83': [3, 6]}, {'83 83': [3, 7]}, {'83 83': [3, 8]}, {'83 83': [3, 9]}, {'83 83': [3, 10]}, {'83 83': [3, 11]}, {'83 83': [3, 12]}, {'83 83': [3, 13]}, {'83 83': [3, 14]}, {'83 83': [3, 15]}, {'83 83': [3, 16]}, {'83 83': [3, 17]}, {'83 83': [3, 18]}, {'83 83': [4, 0]}, {'83 83': [4, 1]}, {'83 83': [4, 2]}, {'83 83': [4, 3]}, {'83 83': [4, 4]}, {'83 83': [4, 5]}, {'83 83': [4, 6]}, {'83 83': [4, 7]}, {'83 83': [4, 8]}, {'83 83': [4, 9]}, {'83 83': [4, 10]}, {'83 83': [4, 11]}, {'83 83': [4, 12]}, {'83 83': [4, 13]}, {'83 83': [4, 14]}, {'83 83': [4, 15]}, {'83 83': [4, 16]}, {'83 83': [4, 17]}, {'83 83': [4, 18]}, {'83 83': [5, 0]}, {'83 83': [5, 1]}, {'83 83': [5, 2]}, {'83 83': [5, 3]}, {'83 83': [5, 4]}, {'83 83': [5, 5]}, {'83 83': [5, 6]}, {'83 83': [5, 7]}, {'83 83': [5, 8]}, {'83 83': [5, 9]}, {'83 83': [5, 10]}, {'83 83': [5, 11]}, {'83 83': [5, 12]}, {'83 83': [5, 13]}, {'83 83': [5, 14]}, {'83 83': [5, 15]}, {'83 83': [5, 16]}, {'83 83': [5, 17]}, {'83 83': [5, 18]}, {'83 83': [6, 0]}, {'83 83': [6, 1]}, {'83 83': [6, 2]}, {'83 83': [6, 3]}, {'83 83': [6, 4]}, {'83 83': [6, 5]}, {'83 83': [6, 6]}, {'83 83': [6, 7]}, {'83 83': [6, 8]}, {'83 83': [6, 9]}, {'83 83': [6, 10]}, {'83 83': [6, 11]}, {'83 83': [6, 12]}, {'83 83': [6, 13]}, {'83 83': [6, 14]}, {'83 83': [6, 15]}, {'83 83': [6, 16]}, {'83 83': [6, 17]}, {'83 83': [6, 18]}, {'83 83': [7, 0]}, {'83 83': [7, 1]}, {'83 83': [7, 2]}, {'83 83': [7, 3]}, {'83 83': [7, 4]}, {'83 83': [7, 5]}, {'83 83': [7, 6]}, {'83 83': [7, 7]}, {'83 83': [7, 8]}, {'83 83': [7, 9]}, {'83 83': [7, 10]}, {'83 83': [7, 11]}, {'83 83': [7, 12]}, {'83 83': [7, 13]}, {'83 83': [7, 14]}, {'83 83': [7, 15]}, {'83 83': [7, 16]}, {'83 83': [7, 17]}, {'83 83': [7, 18]}, {'83 83': [8, 0]}, {'83 83': [8, 1]}, {'83 83': [8, 2]}, {'83 83': [8, 3]}, {'83 83': [8, 4]}, {'83 83': [8, 5]}, {'83 83': [8, 6]}, {'83 83': [8, 7]}, {'83 83': [8, 8]}, {'83 83': [8, 9]}, {'83 83': [8, 10]}, {'83 83': [8, 11]}, {'83 83': [8, 12]}, {'83 83': [8, 13]}, {'83 83': [8, 14]}, {'83 83': [8, 15]}, {'83 83': [8, 16]}, {'83 83': [8, 17]}, {'83 83': [8, 18]}, {'83 83': [9, 0]}, {'83 83': [9, 1]}, {'83 83': [9, 2]}, {'83 83': [9, 3]}, {'83 83': [9, 4]}, {'83 83': [9, 5]}, {'83 83': [9, 6]}, {'83 83': [9, 7]}, {'83 83': [9, 8]}, {'83 83': [9, 9]}, {'83 83': [9, 10]}, {'83 83': [9, 11]}, {'83 83': [9, 12]}, {'83 83': [9, 13]}, {'83 83': [9, 14]}, {'83 83': [9, 15]}, {'83 83': [9, 16]}, {'83 83': [9, 17]}, {'83 83': [9, 18]}, {'83 83': [10, 0]}, {'83 83': [10, 1]}, {'83 83': [10, 2]}, {'83 83': [10, 3]}, {'83 83': [10, 4]}, {'83 83': [10, 5]}, {'83 83': [10, 6]}, {'83 83': [10, 7]}, {'83 83': [10, 8]}, {'83 83': [10, 9]}, {'83 83': [10, 10]}, {'83 83': [10, 11]}, {'83 83': [10, 12]}, {'83 83': [10, 13]}, {'83 83': [10, 14]}, {'83 83': [10, 15]}, {'83 83': [10, 16]}, {'83 83': [10, 17]}, {'83 83': [10, 18]}, {'83 83': [11, 0]}, {'83 83': [11, 1]}, {'83 83': [11, 2]}, {'83 83': [11, 3]}, {'83 83': [11, 4]}, {'83 83': [11, 5]}, {'83 83': [11, 6]}, {'83 83': [11, 7]}, {'83 83': [11, 8]}, {'83 83': [11, 9]}, {'83 83': [11, 10]}, {'83 83': [11, 11]}, {'83 83': [11, 12]}, {'83 83': [11, 13]}, {'83 83': [11, 14]}, {'83 83': [11, 15]}, {'83 83': [11, 16]}, {'83 83': [11, 17]}, {'83 83': [11, 18]}, {'83 83': [12, 0]}, {'83 83': [12, 1]}, {'83 83': [12, 2]}, {'83 83': [12, 3]}, {'83 83': [12, 4]}, {'83 83': [12, 5]}, {'83 83': [12, 6]}, {'83 83': [12, 7]}, {'83 83': [12, 8]}, {'83 83': [12, 9]}, {'83 83': [12, 10]}, {'83 83': [12, 11]}, {'83 83': [12, 12]}, {'83 83': [12, 13]}, {'83 83': [12, 14]}, {'83 83': [12, 15]}, {'83 83': [12, 16]}, {'83 83': [12, 17]}, {'83 83': [12, 18]}, {'83 83': [13, 0]}, {'83 83': [13, 1]}, {'83 83': [13, 2]}, {'83 83': [13, 3]}, {'83 83': [13, 4]}, {'83 83': [13, 5]}, {'83 83': [13, 6]}, {'83 83': [13, 7]}, {'83 83': [13, 8]}, {'83 83': [13, 9]}, {'83 83': [13, 10]}, {'83 83': [13, 11]}, {'83 83': [13, 12]}, {'83 83': [13, 13]}, {'83 83': [13, 14]}, {'83 83': [13, 15]}, {'83 83': [13, 16]}, {'83 83': [13, 17]}, {'83 83': [13, 18]}, {'83 83': [14, 0]}, {'83 83': [14, 1]}, {'83 83': [14, 2]}, {'83 83': [14, 3]}, {'83 83': [14, 4]}, {'83 83': [14, 5]}, {'83 83': [14, 6]}, {'83 83': [14, 7]}, {'83 83': [14, 8]}, {'83 83': [14, 9]}, {'83 83': [14, 10]}, {'83 83': [14, 11]}, {'83 83': [14, 12]}, {'83 83': [14, 13]}, {'83 83': [14, 14]}, {'83 83': [14, 15]}, {'83 83': [14, 16]}, {'83 83': [14, 17]}, {'83 83': [14, 18]}, {'83 83': [15, 0]}, {'83 83': [15, 1]}, {'83 83': [15, 2]}, {'83 83': [15, 3]}, {'83 83': [15, 4]}, {'83 83': [15, 5]}, {'83 83': [15, 6]}, {'83 83': [15, 7]}, {'83 83': [15, 8]}, {'83 83': [15, 9]}, {'83 83': [15, 10]}, {'83 83': [15, 11]}, {'83 83': [15, 12]}, {'83 83': [15, 13]}, {'83 83': [15, 14]}, {'83 83': [15, 15]}, {'83 83': [15, 16]}, {'83 83': [15, 17]}, {'83 83': [15, 18]}, {'83 83': [16, 0]}, {'83 83': [16, 1]}, {'83 83': [16, 2]}, {'83 83': [16, 3]}, {'83 83': [16, 4]}, {'83 83': [16, 5]}, {'83 83': [16, 6]}, {'83 83': [16, 7]}, {'83 83': [16, 8]}, {'83 83': [16, 9]}, {'83 83': [16, 10]}, {'83 83': [16, 11]}, {'83 83': [16, 12]}, {'83 83': [16, 13]}, {'83 83': [16, 14]}, {'83 83': [16, 15]}, {'83 83': [16, 16]}, {'83 83': [16, 17]}, {'83 83': [16, 18]}, {'83 83': [17, 0]}, {'83 83': [17, 1]}, {'83 83': [17, 2]}, {'83 83': [17, 3]}, {'83 83': [17, 4]}, {'83 83': [17, 5]}, {'83 83': [17, 6]}, {'83 83': [17, 7]}, {'83 83': [17, 8]}, {'83 83': [17, 9]}, {'83 83': [17, 10]}, {'83 83': [17, 11]}, {'83 83': [17, 12]}, {'83 83': [17, 13]}, {'83 83': [17, 14]}, {'83 83': [17, 15]}, {'83 83': [17, 16]}, {'83 83': [17, 17]}, {'83 83': [17, 18]}, {'83 83': [18, 0]}, {'83 83': [18, 1]}, {'83 83': [18, 2]}, {'83 83': [18, 3]}, {'83 83': [18, 4]}, {'83 83': [18, 5]}, {'83 83': [18, 6]}, {'83 83': [18, 7]}, {'83 83': [18, 8]}, {'83 83': [18, 9]}, {'83 83': [18, 10]}, {'83 83': [18, 11]}, {'83 83': [18, 12]}, {'83 83': [18, 13]}, {'83 83': [18, 14]}, {'83 83': [18, 15]}, {'83 83': [18, 16]}, {'83 83': [18, 17]}, {'83 83': [18, 18]}]\n",
      "361\n"
     ]
    }
   ],
   "source": [
    "import configparser\n",
    "import json\n",
    "\n",
    "# Initialize the ConfigParser\n",
    "config = configparser.ConfigParser()\n",
    "\n",
    "# Read the configuration file\n",
    "config.read('/home/t.hsu/deeph_dev/default.ini')\n",
    "\n",
    "config.read('/home/t.hsu/deeph_dev/train.ini')  # Replace 'config.ini' with your actual file name\n",
    "\n",
    "# Access the 'orbital' data in the 'basic' section\n",
    "orbital_json_str = config.get('basic', 'orbital')\n",
    "\n",
    "# Parse the JSON string into a Python object\n",
    "orbital = json.loads(orbital_json_str)\n",
    "num_orbital = len(orbital)\n",
    "\n",
    "print(orbital)\n",
    "print(num_orbital)\n",
    "\n"
   ]
  },
  {
   "cell_type": "code",
   "execution_count": 10,
   "id": "9db28a98",
   "metadata": {},
   "outputs": [
    {
     "name": "stdout",
     "output_type": "stream",
     "text": [
      "/home/t.hsu/miniconda3/envs/minideeph/lib/python3.9/site-packages/deeph/kernel.py:53: UserWarning: Unable to copy scripts\n",
      "  warnings.warn(\"Unable to copy scripts\")\n",
      "====== CONFIG ======\n",
      "[basic]\n",
      "graph_dir=/home/t.hsu/example2/work_dir/dataset/graph\n",
      "save_dir=/home/t.hsu/example2/work_dir/trained_model\n",
      "raw_dir=/home/t.hsu/example2/work_dir/dataset/processed\n",
      "dataset_name=Bi_soc\n",
      "only_get_graph=False\n",
      "interface=h5\n",
      "target=hamiltonian\n",
      "disable_cuda=False\n",
      "device=cpu\n",
      "num_threads=64\n",
      "save_to_time_folder=False\n",
      "save_csv=False\n",
      "tb_writer=True\n",
      "seed=42\n",
      "multiprocessing=0\n",
      "orbital=[{\"83 83\": [0, 0]}, {\"83 83\": [0, 1]}, {\"83 83\": [0, 2]}, {\"83 83\": [0, 3]}, {\"83 83\": [0, 4]}, {\"83 83\": [0, 5]}, {\"83 83\": [0, 6]}, {\"83 83\": [0, 7]}, {\"83 83\": [0, 8]}, {\"83 83\": [0, 9]}, {\"83 83\": [0, 10]}, {\"83 83\": [0, 11]}, {\"83 83\": [0, 12]}, {\"83 83\": [0, 13]}, {\"83 83\": [0, 14]}, {\"83 83\": [0, 15]}, {\"83 83\": [0, 16]}, {\"83 83\": [0, 17]}, {\"83 83\": [0, 18]}, {\"83 83\": [1, 0]}, {\"83 83\": [1, 1]}, {\"83 83\": [1, 2]}, {\"83 83\": [1, 3]}, {\"83 83\": [1, 4]}, {\"83 83\": [1, 5]}, {\"83 83\": [1, 6]}, {\"83 83\": [1, 7]}, {\"83 83\": [1, 8]}, {\"83 83\": [1, 9]}, {\"83 83\": [1, 10]}, {\"83 83\": [1, 11]}, {\"83 83\": [1, 12]}, {\"83 83\": [1, 13]}, {\"83 83\": [1, 14]}, {\"83 83\": [1, 15]}, {\"83 83\": [1, 16]}, {\"83 83\": [1, 17]}, {\"83 83\": [1, 18]}, {\"83 83\": [2, 0]}, {\"83 83\": [2, 1]}, {\"83 83\": [2, 2]}, {\"83 83\": [2, 3]}, {\"83 83\": [2, 4]}, {\"83 83\": [2, 5]}, {\"83 83\": [2, 6]}, {\"83 83\": [2, 7]}, {\"83 83\": [2, 8]}, {\"83 83\": [2, 9]}, {\"83 83\": [2, 10]}, {\"83 83\": [2, 11]}, {\"83 83\": [2, 12]}, {\"83 83\": [2, 13]}, {\"83 83\": [2, 14]}, {\"83 83\": [2, 15]}, {\"83 83\": [2, 16]}, {\"83 83\": [2, 17]}, {\"83 83\": [2, 18]}, {\"83 83\": [3, 0]}, {\"83 83\": [3, 1]}, {\"83 83\": [3, 2]}, {\"83 83\": [3, 3]}, {\"83 83\": [3, 4]}, {\"83 83\": [3, 5]}, {\"83 83\": [3, 6]}, {\"83 83\": [3, 7]}, {\"83 83\": [3, 8]}, {\"83 83\": [3, 9]}, {\"83 83\": [3, 10]}, {\"83 83\": [3, 11]}, {\"83 83\": [3, 12]}, {\"83 83\": [3, 13]}, {\"83 83\": [3, 14]}, {\"83 83\": [3, 15]}, {\"83 83\": [3, 16]}, {\"83 83\": [3, 17]}, {\"83 83\": [3, 18]}, {\"83 83\": [4, 0]}, {\"83 83\": [4, 1]}, {\"83 83\": [4, 2]}, {\"83 83\": [4, 3]}, {\"83 83\": [4, 4]}, {\"83 83\": [4, 5]}, {\"83 83\": [4, 6]}, {\"83 83\": [4, 7]}, {\"83 83\": [4, 8]}, {\"83 83\": [4, 9]}, {\"83 83\": [4, 10]}, {\"83 83\": [4, 11]}, {\"83 83\": [4, 12]}, {\"83 83\": [4, 13]}, {\"83 83\": [4, 14]}, {\"83 83\": [4, 15]}, {\"83 83\": [4, 16]}, {\"83 83\": [4, 17]}, {\"83 83\": [4, 18]}, {\"83 83\": [5, 0]}, {\"83 83\": [5, 1]}, {\"83 83\": [5, 2]}, {\"83 83\": [5, 3]}, {\"83 83\": [5, 4]}, {\"83 83\": [5, 5]}, {\"83 83\": [5, 6]}, {\"83 83\": [5, 7]}, {\"83 83\": [5, 8]}, {\"83 83\": [5, 9]}, {\"83 83\": [5, 10]}, {\"83 83\": [5, 11]}, {\"83 83\": [5, 12]}, {\"83 83\": [5, 13]}, {\"83 83\": [5, 14]}, {\"83 83\": [5, 15]}, {\"83 83\": [5, 16]}, {\"83 83\": [5, 17]}, {\"83 83\": [5, 18]}, {\"83 83\": [6, 0]}, {\"83 83\": [6, 1]}, {\"83 83\": [6, 2]}, {\"83 83\": [6, 3]}, {\"83 83\": [6, 4]}, {\"83 83\": [6, 5]}, {\"83 83\": [6, 6]}, {\"83 83\": [6, 7]}, {\"83 83\": [6, 8]}, {\"83 83\": [6, 9]}, {\"83 83\": [6, 10]}, {\"83 83\": [6, 11]}, {\"83 83\": [6, 12]}, {\"83 83\": [6, 13]}, {\"83 83\": [6, 14]}, {\"83 83\": [6, 15]}, {\"83 83\": [6, 16]}, {\"83 83\": [6, 17]}, {\"83 83\": [6, 18]}, {\"83 83\": [7, 0]}, {\"83 83\": [7, 1]}, {\"83 83\": [7, 2]}, {\"83 83\": [7, 3]}, {\"83 83\": [7, 4]}, {\"83 83\": [7, 5]}, {\"83 83\": [7, 6]}, {\"83 83\": [7, 7]}, {\"83 83\": [7, 8]}, {\"83 83\": [7, 9]}, {\"83 83\": [7, 10]}, {\"83 83\": [7, 11]}, {\"83 83\": [7, 12]}, {\"83 83\": [7, 13]}, {\"83 83\": [7, 14]}, {\"83 83\": [7, 15]}, {\"83 83\": [7, 16]}, {\"83 83\": [7, 17]}, {\"83 83\": [7, 18]}, {\"83 83\": [8, 0]}, {\"83 83\": [8, 1]}, {\"83 83\": [8, 2]}, {\"83 83\": [8, 3]}, {\"83 83\": [8, 4]}, {\"83 83\": [8, 5]}, {\"83 83\": [8, 6]}, {\"83 83\": [8, 7]}, {\"83 83\": [8, 8]}, {\"83 83\": [8, 9]}, {\"83 83\": [8, 10]}, {\"83 83\": [8, 11]}, {\"83 83\": [8, 12]}, {\"83 83\": [8, 13]}, {\"83 83\": [8, 14]}, {\"83 83\": [8, 15]}, {\"83 83\": [8, 16]}, {\"83 83\": [8, 17]}, {\"83 83\": [8, 18]}, {\"83 83\": [9, 0]}, {\"83 83\": [9, 1]}, {\"83 83\": [9, 2]}, {\"83 83\": [9, 3]}, {\"83 83\": [9, 4]}, {\"83 83\": [9, 5]}, {\"83 83\": [9, 6]}, {\"83 83\": [9, 7]}, {\"83 83\": [9, 8]}, {\"83 83\": [9, 9]}, {\"83 83\": [9, 10]}, {\"83 83\": [9, 11]}, {\"83 83\": [9, 12]}, {\"83 83\": [9, 13]}, {\"83 83\": [9, 14]}, {\"83 83\": [9, 15]}, {\"83 83\": [9, 16]}, {\"83 83\": [9, 17]}, {\"83 83\": [9, 18]}, {\"83 83\": [10, 0]}, {\"83 83\": [10, 1]}, {\"83 83\": [10, 2]}, {\"83 83\": [10, 3]}, {\"83 83\": [10, 4]}, {\"83 83\": [10, 5]}, {\"83 83\": [10, 6]}, {\"83 83\": [10, 7]}, {\"83 83\": [10, 8]}, {\"83 83\": [10, 9]}, {\"83 83\": [10, 10]}, {\"83 83\": [10, 11]}, {\"83 83\": [10, 12]}, {\"83 83\": [10, 13]}, {\"83 83\": [10, 14]}, {\"83 83\": [10, 15]}, {\"83 83\": [10, 16]}, {\"83 83\": [10, 17]}, {\"83 83\": [10, 18]}, {\"83 83\": [11, 0]}, {\"83 83\": [11, 1]}, {\"83 83\": [11, 2]}, {\"83 83\": [11, 3]}, {\"83 83\": [11, 4]}, {\"83 83\": [11, 5]}, {\"83 83\": [11, 6]}, {\"83 83\": [11, 7]}, {\"83 83\": [11, 8]}, {\"83 83\": [11, 9]}, {\"83 83\": [11, 10]}, {\"83 83\": [11, 11]}, {\"83 83\": [11, 12]}, {\"83 83\": [11, 13]}, {\"83 83\": [11, 14]}, {\"83 83\": [11, 15]}, {\"83 83\": [11, 16]}, {\"83 83\": [11, 17]}, {\"83 83\": [11, 18]}, {\"83 83\": [12, 0]}, {\"83 83\": [12, 1]}, {\"83 83\": [12, 2]}, {\"83 83\": [12, 3]}, {\"83 83\": [12, 4]}, {\"83 83\": [12, 5]}, {\"83 83\": [12, 6]}, {\"83 83\": [12, 7]}, {\"83 83\": [12, 8]}, {\"83 83\": [12, 9]}, {\"83 83\": [12, 10]}, {\"83 83\": [12, 11]}, {\"83 83\": [12, 12]}, {\"83 83\": [12, 13]}, {\"83 83\": [12, 14]}, {\"83 83\": [12, 15]}, {\"83 83\": [12, 16]}, {\"83 83\": [12, 17]}, {\"83 83\": [12, 18]}, {\"83 83\": [13, 0]}, {\"83 83\": [13, 1]}, {\"83 83\": [13, 2]}, {\"83 83\": [13, 3]}, {\"83 83\": [13, 4]}, {\"83 83\": [13, 5]}, {\"83 83\": [13, 6]}, {\"83 83\": [13, 7]}, {\"83 83\": [13, 8]}, {\"83 83\": [13, 9]}, {\"83 83\": [13, 10]}, {\"83 83\": [13, 11]}, {\"83 83\": [13, 12]}, {\"83 83\": [13, 13]}, {\"83 83\": [13, 14]}, {\"83 83\": [13, 15]}, {\"83 83\": [13, 16]}, {\"83 83\": [13, 17]}, {\"83 83\": [13, 18]}, {\"83 83\": [14, 0]}, {\"83 83\": [14, 1]}, {\"83 83\": [14, 2]}, {\"83 83\": [14, 3]}, {\"83 83\": [14, 4]}, {\"83 83\": [14, 5]}, {\"83 83\": [14, 6]}, {\"83 83\": [14, 7]}, {\"83 83\": [14, 8]}, {\"83 83\": [14, 9]}, {\"83 83\": [14, 10]}, {\"83 83\": [14, 11]}, {\"83 83\": [14, 12]}, {\"83 83\": [14, 13]}, {\"83 83\": [14, 14]}, {\"83 83\": [14, 15]}, {\"83 83\": [14, 16]}, {\"83 83\": [14, 17]}, {\"83 83\": [14, 18]}, {\"83 83\": [15, 0]}, {\"83 83\": [15, 1]}, {\"83 83\": [15, 2]}, {\"83 83\": [15, 3]}, {\"83 83\": [15, 4]}, {\"83 83\": [15, 5]}, {\"83 83\": [15, 6]}, {\"83 83\": [15, 7]}, {\"83 83\": [15, 8]}, {\"83 83\": [15, 9]}, {\"83 83\": [15, 10]}, {\"83 83\": [15, 11]}, {\"83 83\": [15, 12]}, {\"83 83\": [15, 13]}, {\"83 83\": [15, 14]}, {\"83 83\": [15, 15]}, {\"83 83\": [15, 16]}, {\"83 83\": [15, 17]}, {\"83 83\": [15, 18]}, {\"83 83\": [16, 0]}, {\"83 83\": [16, 1]}, {\"83 83\": [16, 2]}, {\"83 83\": [16, 3]}, {\"83 83\": [16, 4]}, {\"83 83\": [16, 5]}, {\"83 83\": [16, 6]}, {\"83 83\": [16, 7]}, {\"83 83\": [16, 8]}, {\"83 83\": [16, 9]}, {\"83 83\": [16, 10]}, {\"83 83\": [16, 11]}, {\"83 83\": [16, 12]}, {\"83 83\": [16, 13]}, {\"83 83\": [16, 14]}, {\"83 83\": [16, 15]}, {\"83 83\": [16, 16]}, {\"83 83\": [16, 17]}, {\"83 83\": [16, 18]}, {\"83 83\": [17, 0]}, {\"83 83\": [17, 1]}, {\"83 83\": [17, 2]}, {\"83 83\": [17, 3]}, {\"83 83\": [17, 4]}, {\"83 83\": [17, 5]}, {\"83 83\": [17, 6]}, {\"83 83\": [17, 7]}, {\"83 83\": [17, 8]}, {\"83 83\": [17, 9]}, {\"83 83\": [17, 10]}, {\"83 83\": [17, 11]}, {\"83 83\": [17, 12]}, {\"83 83\": [17, 13]}, {\"83 83\": [17, 14]}, {\"83 83\": [17, 15]}, {\"83 83\": [17, 16]}, {\"83 83\": [17, 17]}, {\"83 83\": [17, 18]}, {\"83 83\": [18, 0]}, {\"83 83\": [18, 1]}, {\"83 83\": [18, 2]}, {\"83 83\": [18, 3]}, {\"83 83\": [18, 4]}, {\"83 83\": [18, 5]}, {\"83 83\": [18, 6]}, {\"83 83\": [18, 7]}, {\"83 83\": [18, 8]}, {\"83 83\": [18, 9]}, {\"83 83\": [18, 10]}, {\"83 83\": [18, 11]}, {\"83 83\": [18, 12]}, {\"83 83\": [18, 13]}, {\"83 83\": [18, 14]}, {\"83 83\": [18, 15]}, {\"83 83\": [18, 16]}, {\"83 83\": [18, 17]}, {\"83 83\": [18, 18]}]\n",
      "o_component=H\n",
      "energy_component=summation\n",
      "max_element=-1\n",
      "statistics=False\n",
      "normalizer=False\n",
      "boxcox=False\n",
      "\n",
      "[graph]\n",
      "radius=-1.0\n",
      "max_num_nbr=0\n",
      "create_from_dft=True\n",
      "if_lcmp_graph=True\n",
      "separate_onsite=False\n",
      "new_sp=False\n",
      "\n",
      "[train]\n",
      "epochs=2\n",
      "pretrained=\n",
      "resume=\n",
      "train_ratio=0.6\n",
      "val_ratio=0.2\n",
      "test_ratio=0.2\n",
      "early_stopping_loss=0.0\n",
      "early_stopping_loss_epoch=[0.000000, 500]\n",
      "revert_then_decay=True\n",
      "revert_threshold=30\n",
      "revert_decay_epoch=[250, 2500]\n",
      "revert_decay_gamma=[0.2, 0.5]\n",
      "clip_grad=True\n",
      "clip_grad_value=4.2\n",
      "switch_sgd=False\n",
      "switch_sgd_lr=1e-4\n",
      "switch_sgd_epoch=-1\n",
      "\n",
      "[hyperparameter]\n",
      "batch_size=1\n",
      "dtype=float32\n",
      "optimizer=adam\n",
      "learning_rate=0.001\n",
      "lr_scheduler=\n",
      "lr_milestones=[]\n",
      "momentum=0.9\n",
      "weight_decay=0\n",
      "criterion=MaskMSELoss\n",
      "retain_edge_fea=True\n",
      "lambda_eij=0.0\n",
      "lambda_ei=0.1\n",
      "lambda_etot=0.0\n",
      "\n",
      "[network]\n",
      "atom_fea_len=64\n",
      "edge_fea_len=128\n",
      "gauss_stop=8.5\n",
      "num_l=5\n",
      "aggr=add\n",
      "distance_expansion=GaussianBasis\n",
      "if_exp=True\n",
      "if_multiplelinear=False\n",
      "if_edge_update=True\n",
      "if_lcmp=True\n",
      "normalization=LayerNorm\n",
      "atom_update_net=CGConv\n",
      "trainable_gaussians=False\n",
      "type_affine=False\n",
      "\n",
      "Graph data file: HGraph-h5-Bi_soc-5l-FromDFT.pkl\n",
      "Use existing graph data file\n"
     ]
    },
    {
     "name": "stdout",
     "output_type": "stream",
     "text": [
      "Atomic types: [83]\n",
      "Finish loading the processed 81 structures (spinful: True, the number of atomic types: 1), cost 1 seconds\n"
     ]
    }
   ],
   "source": [
    "from deeph.kernel import DeepHKernel\n",
    "\n",
    "kernel = DeepHKernel(config)\n",
    "train_loader, val_loader, test_loader, transform = kernel.get_dataset()\n"
   ]
  },
  {
   "cell_type": "code",
   "execution_count": 11,
   "id": "bab1aa6d",
   "metadata": {},
   "outputs": [],
   "source": [
    "kernel.num_orbital\n",
    "kernel.build_model()\n"
   ]
  },
  {
   "cell_type": "code",
   "execution_count": 12,
   "id": "ad77f989",
   "metadata": {},
   "outputs": [
    {
     "data": {
      "text/plain": [
       "tensor([83])"
      ]
     },
     "execution_count": 12,
     "metadata": {},
     "output_type": "execute_result"
    }
   ],
   "source": [
    "kernel.index_to_Z\n"
   ]
  },
  {
   "cell_type": "code",
   "execution_count": 13,
   "id": "7fc0158f",
   "metadata": {},
   "outputs": [],
   "source": [
    "def make_mask(dataset):\n",
    "    spinful = True\n",
    "    target = 'hamiltonian'\n",
    "    num_orbital = kernel.num_orbital\n",
    "    dataset_mask = []\n",
    "    for data in dataset:\n",
    "        Oij_value = data.term_real\n",
    "        if data.term_real is not None:\n",
    "            if_only_rc = False\n",
    "\n",
    "        if spinful:\n",
    "            out_fea_len = num_orbital * 8\n",
    "\n",
    "        mask = torch.zeros(data.edge_attr.shape[0], out_fea_len, dtype=torch.int8)\n",
    "        label = torch.zeros(data.edge_attr.shape[0], out_fea_len, dtype=torch.get_default_dtype())\n",
    "\n",
    "        atomic_number_edge_i = kernel.index_to_Z[data.x[data.edge_index[0]]]\n",
    "        atomic_number_edge_j = kernel.index_to_Z[data.x[data.edge_index[1]]]\n",
    "\n",
    "        for index_out, orbital_dict in enumerate(kernel.orbital):\n",
    "            for N_M_str, a_b in orbital_dict.items():\n",
    "                # N_M, a_b means: H_{ia, jb} when the atomic number of atom i is N and the atomic number of atom j is M\n",
    "                condition_atomic_number_i, condition_atomic_number_j = map(lambda x: int(x), N_M_str.split())\n",
    "                condition_orbital_i, condition_orbital_j = a_b\n",
    "\n",
    "                if spinful:\n",
    "                    if target == 'phiVdphi':\n",
    "                        raise NotImplementedError(\"Not yet have support for phiVdphi\")\n",
    "                    else:\n",
    "                        mask[:, 8 * index_out:8 * (index_out + 1)] = torch.where(\n",
    "                            (atomic_number_edge_i == condition_atomic_number_i)\n",
    "                            & (atomic_number_edge_j == condition_atomic_number_j),\n",
    "                            1,\n",
    "                            0\n",
    "                        )[:, None].repeat(1, 8)\n",
    "                else:\n",
    "                    if target == 'phiVdphi':\n",
    "                        mask[:, 3 * index_out:3 * (index_out + 1)] += torch.where(\n",
    "                            (atomic_number_edge_i == condition_atomic_number_i)\n",
    "                            & (atomic_number_edge_j == condition_atomic_number_j),\n",
    "                            1,\n",
    "                            0\n",
    "                        )[:, None].repeat(1, 3)\n",
    "                    else:\n",
    "                        mask[:, index_out] += torch.where(\n",
    "                            (atomic_number_edge_i == condition_atomic_number_i)\n",
    "                            & (atomic_number_edge_j == condition_atomic_number_j),\n",
    "                            1,\n",
    "                            0\n",
    "                        )\n",
    "\n",
    "                if if_only_rc == False:\n",
    "                    if spinful:\n",
    "                        if target == 'phiVdphi':\n",
    "                            raise NotImplementedError\n",
    "                        else:\n",
    "                            label[:, 8 * index_out:8 * (index_out + 1)] = torch.where(\n",
    "                                (atomic_number_edge_i == condition_atomic_number_i)\n",
    "                                & (atomic_number_edge_j == condition_atomic_number_j),\n",
    "                                Oij_value[:, condition_orbital_i, condition_orbital_j].t(),\n",
    "                                torch.zeros(8, data.edge_attr.shape[0], dtype=torch.get_default_dtype())\n",
    "                            ).t()\n",
    "                    else:\n",
    "                        if target == 'phiVdphi':\n",
    "                            label[:, 3 * index_out:3 * (index_out + 1)] = torch.where(\n",
    "                                (atomic_number_edge_i == condition_atomic_number_i)\n",
    "                                & (atomic_number_edge_j == condition_atomic_number_j),\n",
    "                                Oij_value[:, condition_orbital_i, condition_orbital_j].t(),\n",
    "                                torch.zeros(3, data.edge_attr.shape[0], dtype=torch.get_default_dtype())\n",
    "                            ).t()\n",
    "                        else:\n",
    "                            label[:, index_out] += torch.where(\n",
    "                                (atomic_number_edge_i == condition_atomic_number_i)\n",
    "                                & (atomic_number_edge_j == condition_atomic_number_j),\n",
    "                                Oij_value[:, condition_orbital_i, condition_orbital_j],\n",
    "                                torch.zeros(data.edge_attr.shape[0], dtype=torch.get_default_dtype())\n",
    "                            )\n",
    "        assert len(torch.where((mask != 1) & (mask != 0))[0]) == 0\n",
    "        mask = mask.bool()\n",
    "        data.mask = mask\n",
    "        del data.term_mask\n",
    "        if if_only_rc == False:\n",
    "            data.label = label\n",
    "            if target == 'hamiltonian' or target == 'density_matrix':\n",
    "                del data.term_real\n",
    "        dataset_mask.append(data)\n",
    "    return dataset_mask"
   ]
  },
  {
   "cell_type": "code",
   "execution_count": 14,
   "id": "ec9c48eb",
   "metadata": {},
   "outputs": [
    {
     "name": "stdout",
     "output_type": "stream",
     "text": [
      "number of train set: 48\n",
      "number of val set: 16\n",
      "number of test set: 16\n",
      "{'normalizer': False, 'boxcox': False}\n",
      "Output features length of single edge: 2888\n",
      "The model you built has: 843961 parameters\n",
      "81\n",
      "Data(\n",
      "  atom_num_orbital=[36],\n",
      "  edge_attr=[1472, 10],\n",
      "  edge_index=[2, 1472],\n",
      "  spinful=[1],\n",
      "  stru_id=\"0\",\n",
      "  subgraph_dict={\n",
      "    subgraph_atom_idx=[121080, 2],\n",
      "    subgraph_edge_idx=[121080],\n",
      "    subgraph_edge_ang=[121080, 25],\n",
      "    subgraph_index=[121080]\n",
      "  },\n",
      "  term_mask=[1472],\n",
      "  term_real=[1472, 19, 19, 8],\n",
      "  x=[36]\n",
      ")\n",
      "number of train set: 48\n",
      "number of val set: 16\n",
      "number of test set: 16\n"
     ]
    }
   ],
   "source": [
    "dataset_size = len(dataset)\n",
    "print(dataset_size)\n",
    "print(dataset[0])\n",
    "dataset = make_mask(dataset)"
   ]
  },
  {
   "cell_type": "code",
   "execution_count": 15,
   "id": "a0a8ced9",
   "metadata": {},
   "outputs": [],
   "source": [
    "train_ratio = 0.6\n",
    "val_ratio = 0.2\n",
    "test_ratio = 0.2\n",
    "train_size = int(train_ratio * dataset_size)\n",
    "val_size = int(val_ratio * dataset_size)\n",
    "test_size = int(test_ratio * dataset_size)"
   ]
  },
  {
   "cell_type": "code",
   "execution_count": 16,
   "id": "c8f029c0",
   "metadata": {},
   "outputs": [],
   "source": [
    "indices = list(range(dataset_size))\n",
    "\n",
    "print(f'number of train set: {len(indices[:train_size])}')\n",
    "print(f'number of val set: {len(indices[train_size:train_size + val_size])}')\n",
    "print(f'number of test set: {len(indices[train_size + val_size:train_size + val_size + test_size])}')"
   ]
  },
  {
   "cell_type": "code",
   "execution_count": 17,
   "id": "9cb88ef1",
   "metadata": {},
   "outputs": [],
   "source": [
    "train_sampler = SubsetRandomSampler(indices[:train_size])\n",
    "val_sampler = SubsetRandomSampler(indices[train_size:train_size + val_size])\n",
    "test_sampler = SubsetRandomSampler(indices[train_size + val_size:train_size + val_size + test_size])"
   ]
  },
  {
   "cell_type": "code",
   "execution_count": 18,
   "id": "aef87777",
   "metadata": {},
   "outputs": [],
   "source": [
    "from deeph.graph import Collater\n",
    "\n",
    "train_loader = DataLoader(dataset, batch_size=1,\n",
    "                            shuffle=False, sampler=train_sampler,\n",
    "                            collate_fn=Collater(True))\n",
    "val_loader = DataLoader(dataset, batch_size=1,\n",
    "                        shuffle=False, sampler=val_sampler,\n",
    "                        collate_fn=Collater(True))\n",
    "test_loader = DataLoader(dataset, batch_size=1,\n",
    "                            shuffle=False, sampler=test_sampler,\n",
    "                            collate_fn=Collater(True))"
   ]
  },
  {
   "cell_type": "code",
   "execution_count": 20,
   "id": "a4a5771b",
   "metadata": {},
   "outputs": [
    {
     "data": {
      "text/plain": [
       "<torch.utils.data.sampler.SubsetRandomSampler at 0x2b28e74aba60>"
      ]
     },
     "execution_count": 20,
     "metadata": {},
     "output_type": "execute_result"
    }
   ],
   "source": [
    "train_loader.sampler"
   ]
  },
  {
   "cell_type": "code",
   "execution_count": 21,
   "id": "dcc40169",
   "metadata": {},
   "outputs": [
    {
     "data": {
      "text/plain": [
       "<torch.utils.data.sampler.SubsetRandomSampler at 0x2b28e74ab250>"
      ]
     },
     "execution_count": 21,
     "metadata": {},
     "output_type": "execute_result"
    }
   ],
   "source": [
    "test_loader.sampler\n"
   ]
  },
  {
   "cell_type": "code",
   "execution_count": 22,
   "id": "243047e6",
   "metadata": {},
   "outputs": [],
   "source": [
    "if_lcmp = True\n",
    "for step, batch_tuple in enumerate(train_loader):\n",
    "    if if_lcmp:\n",
    "        batch, subgraph = batch_tuple\n",
    "        sub_atom_idx, sub_edge_idx, sub_edge_ang, sub_index = subgraph\n",
    "        label = batch.label"
   ]
  },
  {
   "cell_type": "code",
   "execution_count": 23,
   "id": "078c3159",
   "metadata": {},
   "outputs": [
    {
     "data": {
      "text/plain": [
       "torch.Size([1518, 2888])"
      ]
     },
     "execution_count": 23,
     "metadata": {},
     "output_type": "execute_result"
    }
   ],
   "source": [
    "label = batch.label\n",
    "label.shape"
   ]
  },
  {
   "cell_type": "code",
   "execution_count": 25,
   "id": "4d86e430",
   "metadata": {},
   "outputs": [],
   "source": [
    "mask = batch.mask"
   ]
  },
  {
   "cell_type": "code",
   "execution_count": null,
   "id": "4774dbdc",
   "metadata": {},
   "outputs": [],
   "source": []
  }
 ],
 "metadata": {
  "kernelspec": {
   "display_name": "Python 3 (ipykernel)",
   "language": "python",
   "name": "python3"
  },
  "language_info": {
   "codemirror_mode": {
    "name": "ipython",
    "version": 3
   },
   "file_extension": ".py",
   "mimetype": "text/x-python",
   "name": "python",
   "nbconvert_exporter": "python",
   "pygments_lexer": "ipython3",
   "version": "3.9.19"
  }
 },
 "nbformat": 4,
 "nbformat_minor": 5
}
