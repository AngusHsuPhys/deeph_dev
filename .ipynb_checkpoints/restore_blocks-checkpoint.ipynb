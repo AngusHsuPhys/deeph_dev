{
 "cells": [
  {
   "cell_type": "code",
   "execution_count": 2,
   "id": "fe301a18-671f-467e-a0f1-d464f409decb",
   "metadata": {},
   "outputs": [],
   "source": [
    "# # The most important ingredient. Located in pred_ham.py:\n",
    "# if restore_blocks_py:\n",
    "#                 for index in range(batch.edge_attr.shape[0]):\n",
    "#                     R = torch.round(batch.edge_attr[index, 4:7] @ inv_lattice - batch.edge_attr[index, 7:10] @ inv_lattice).int().tolist()\n",
    "#                     i, j = batch.edge_index[:, index]\n",
    "#                     key_term = (*R, i.item() + 1, j.item() + 1)\n",
    "#                     key_term = str(list(key_term))\n",
    "#                     for index_orbital, orbital_dict in enumerate(kernel.orbital):\n",
    "#                         if f'{kernel.index_to_Z[numbers[i]].item()} {kernel.index_to_Z[numbers[j]].item()}' not in orbital_dict:\n",
    "#                             continue\n",
    "#                         orbital_i, orbital_j = orbital_dict[f'{kernel.index_to_Z[numbers[i]].item()} {kernel.index_to_Z[numbers[j]].item()}']\n",
    "\n",
    "#                         if not key_term in hoppings_pred:\n",
    "#                             if kernel.spinful:\n",
    "#                                 hoppings_pred[key_term] = np.full((2 * atom_num_orbital[i], 2 * atom_num_orbital[j]), np.nan + np.nan * (1j))\n",
    "#                             else:\n",
    "#                                 hoppings_pred[key_term] = np.full((atom_num_orbital[i], atom_num_orbital[j]), np.nan)\n",
    "#                         if kernel.spinful:\n",
    "#                             hoppings_pred[key_term][orbital_i, orbital_j] = output[index][index_orbital * 8 + 0] + output[index][index_orbital * 8 + 1] * 1j\n",
    "#                             hoppings_pred[key_term][atom_num_orbital[i] + orbital_i, atom_num_orbital[j] + orbital_j] = output[index][index_orbital * 8 + 2] + output[index][index_orbital * 8 + 3] * 1j\n",
    "#                             hoppings_pred[key_term][orbital_i, atom_num_orbital[j] + orbital_j] = output[index][index_orbital * 8 + 4] + output[index][index_orbital * 8 + 5] * 1j\n",
    "#                             hoppings_pred[key_term][atom_num_orbital[i] + orbital_i, orbital_j] = output[index][index_orbital * 8 + 6] + output[index][index_orbital * 8 + 7] * 1j"
   ]
  },
  {
   "cell_type": "code",
   "execution_count": 9,
   "id": "dbb90594-6c02-48e3-b049-9397d6fedba8",
   "metadata": {},
   "outputs": [
    {
     "name": "stdout",
     "output_type": "stream",
     "text": [
      "(38, 38)\n",
      "(38, 38)\n"
     ]
    }
   ],
   "source": [
    "import h5py\n",
    "import numpy as np \n",
    "file_path = '../example2/work_dir/inference/5_4/rh_pred.h5'\n",
    "with h5py.File(file_path, 'r') as h5file:\n",
    "    # print(\"Keys in the HDF5 file:\", len(list(h5file.keys())))\n",
    "    for i in range(2):\n",
    "        selected_key = list(h5file.keys())[i]\n",
    "        data = h5file[selected_key][:]\n",
    "        print(data.shape)\n"
   ]
  },
  {
   "cell_type": "code",
   "execution_count": null,
   "id": "db896cd9-17f7-4aa2-a4dd-4455e9027827",
   "metadata": {},
   "outputs": [],
   "source": []
  }
 ],
 "metadata": {
  "kernelspec": {
   "display_name": "Python 3 (ipykernel)",
   "language": "python",
   "name": "python3"
  },
  "language_info": {
   "codemirror_mode": {
    "name": "ipython",
    "version": 3
   },
   "file_extension": ".py",
   "mimetype": "text/x-python",
   "name": "python",
   "nbconvert_exporter": "python",
   "pygments_lexer": "ipython3",
   "version": "3.9.19"
  }
 },
 "nbformat": 4,
 "nbformat_minor": 5
}
